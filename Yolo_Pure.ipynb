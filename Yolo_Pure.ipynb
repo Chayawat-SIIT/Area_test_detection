{
 "cells": [
  {
   "cell_type": "code",
   "execution_count": 1,
   "metadata": {},
   "outputs": [],
   "source": [
    "import cv2\n",
    "import pandas as pd\n",
    "import numpy as np\n",
    "from ultralytics import YOLO\n",
    "from collections import defaultdict\n",
    "from scipy.spatial.distance import euclidean # add change\n",
    "\n",
    "model = YOLO('yolov8n.pt')\n",
    "car_class_id = 2  # Class ID for cars\n",
    "bus_class_id = 5  # Class ID for buses\n",
    "truck_class_id = 7  # Class ID for trucks\n",
    "confidence_threshold = 0.5"
   ]
  },
  {
   "cell_type": "code",
   "execution_count": 2,
   "metadata": {},
   "outputs": [
    {
     "name": "stdout",
     "output_type": "stream",
     "text": [
      "Resized Frame Size: Width = 960, Height = 540\n"
     ]
    },
    {
     "name": "stderr",
     "output_type": "stream",
     "text": [
      "\n",
      "0: 384x640 8 cars, 1 truck, 240.1ms\n",
      "Speed: 8.0ms preprocess, 240.1ms inference, 13.0ms postprocess per image at shape (1, 3, 384, 640)\n",
      "\n",
      "0: 384x640 8 cars, 1 truck, 132.9ms\n",
      "Speed: 3.1ms preprocess, 132.9ms inference, 2.0ms postprocess per image at shape (1, 3, 384, 640)\n",
      "\n"
     ]
    },
    {
     "name": "stdout",
     "output_type": "stream",
     "text": [
      "Resized Frame Size: Width = 960, Height = 540\n",
      "Resized Frame Size: Width = 960, Height = 540\n"
     ]
    },
    {
     "name": "stderr",
     "output_type": "stream",
     "text": [
      "0: 384x640 8 cars, 1 truck, 142.9ms\n",
      "Speed: 4.1ms preprocess, 142.9ms inference, 2.0ms postprocess per image at shape (1, 3, 384, 640)\n",
      "\n",
      "0: 384x640 7 cars, 1 truck, 166.8ms\n",
      "Speed: 4.0ms preprocess, 166.8ms inference, 2.0ms postprocess per image at shape (1, 3, 384, 640)\n"
     ]
    },
    {
     "name": "stdout",
     "output_type": "stream",
     "text": [
      "Resized Frame Size: Width = 960, Height = 540\n"
     ]
    },
    {
     "name": "stderr",
     "output_type": "stream",
     "text": [
      "\n",
      "0: 384x640 6 cars, 1 truck, 160.8ms\n"
     ]
    },
    {
     "name": "stdout",
     "output_type": "stream",
     "text": [
      "Resized Frame Size: Width = 960, Height = 540\n"
     ]
    },
    {
     "name": "stderr",
     "output_type": "stream",
     "text": [
      "Speed: 5.0ms preprocess, 160.8ms inference, 2.0ms postprocess per image at shape (1, 3, 384, 640)\n",
      "\n",
      "0: 384x640 6 cars, 1 truck, 137.1ms\n",
      "Speed: 4.4ms preprocess, 137.1ms inference, 2.0ms postprocess per image at shape (1, 3, 384, 640)\n"
     ]
    },
    {
     "name": "stdout",
     "output_type": "stream",
     "text": [
      "Resized Frame Size: Width = 960, Height = 540\n"
     ]
    },
    {
     "name": "stderr",
     "output_type": "stream",
     "text": [
      "\n",
      "0: 384x640 5 cars, 1 truck, 133.7ms\n",
      "Speed: 4.1ms preprocess, 133.7ms inference, 3.0ms postprocess per image at shape (1, 3, 384, 640)\n"
     ]
    },
    {
     "name": "stdout",
     "output_type": "stream",
     "text": [
      "Resized Frame Size: Width = 960, Height = 540\n"
     ]
    },
    {
     "name": "stderr",
     "output_type": "stream",
     "text": [
      "\n",
      "0: 384x640 6 cars, 1 truck, 152.3ms\n",
      "Speed: 4.0ms preprocess, 152.3ms inference, 3.0ms postprocess per image at shape (1, 3, 384, 640)\n"
     ]
    },
    {
     "name": "stdout",
     "output_type": "stream",
     "text": [
      "Resized Frame Size: Width = 960, Height = 540\n"
     ]
    },
    {
     "name": "stderr",
     "output_type": "stream",
     "text": [
      "\n",
      "0: 384x640 6 cars, 1 truck, 131.3ms\n",
      "Speed: 4.0ms preprocess, 131.3ms inference, 2.0ms postprocess per image at shape (1, 3, 384, 640)\n"
     ]
    },
    {
     "name": "stdout",
     "output_type": "stream",
     "text": [
      "Resized Frame Size: Width = 960, Height = 540\n"
     ]
    },
    {
     "name": "stderr",
     "output_type": "stream",
     "text": [
      "\n",
      "0: 384x640 6 cars, 1 truck, 167.7ms\n",
      "Speed: 4.5ms preprocess, 167.7ms inference, 2.0ms postprocess per image at shape (1, 3, 384, 640)\n"
     ]
    },
    {
     "name": "stdout",
     "output_type": "stream",
     "text": [
      "Resized Frame Size: Width = 960, Height = 540\n"
     ]
    },
    {
     "name": "stderr",
     "output_type": "stream",
     "text": [
      "\n",
      "0: 384x640 6 cars, 1 truck, 139.0ms\n",
      "Speed: 3.0ms preprocess, 139.0ms inference, 2.0ms postprocess per image at shape (1, 3, 384, 640)\n"
     ]
    },
    {
     "name": "stdout",
     "output_type": "stream",
     "text": [
      "Resized Frame Size: Width = 960, Height = 540\n"
     ]
    },
    {
     "name": "stderr",
     "output_type": "stream",
     "text": [
      "\n",
      "0: 384x640 7 cars, 1 truck, 144.7ms\n",
      "Speed: 3.0ms preprocess, 144.7ms inference, 2.0ms postprocess per image at shape (1, 3, 384, 640)\n"
     ]
    },
    {
     "name": "stdout",
     "output_type": "stream",
     "text": [
      "Resized Frame Size: Width = 960, Height = 540\n"
     ]
    },
    {
     "name": "stderr",
     "output_type": "stream",
     "text": [
      "\n",
      "0: 384x640 9 cars, 1 truck, 131.1ms\n",
      "Speed: 3.0ms preprocess, 131.1ms inference, 3.0ms postprocess per image at shape (1, 3, 384, 640)\n"
     ]
    },
    {
     "name": "stdout",
     "output_type": "stream",
     "text": [
      "Resized Frame Size: Width = 960, Height = 540\n",
      "Resized Frame Size: Width = 960, Height = 540\n"
     ]
    },
    {
     "name": "stderr",
     "output_type": "stream",
     "text": [
      "\n",
      "0: 384x640 10 cars, 1 truck, 133.0ms\n",
      "Speed: 5.5ms preprocess, 133.0ms inference, 2.0ms postprocess per image at shape (1, 3, 384, 640)\n",
      "\n",
      "0: 384x640 10 cars, 1 truck, 126.2ms\n",
      "Speed: 4.0ms preprocess, 126.2ms inference, 2.0ms postprocess per image at shape (1, 3, 384, 640)\n"
     ]
    },
    {
     "name": "stdout",
     "output_type": "stream",
     "text": [
      "Resized Frame Size: Width = 960, Height = 540\n",
      "Resized Frame Size: Width = 960, Height = 540\n"
     ]
    },
    {
     "name": "stderr",
     "output_type": "stream",
     "text": [
      "\n",
      "0: 384x640 10 cars, 1 truck, 155.3ms\n",
      "Speed: 2.0ms preprocess, 155.3ms inference, 2.0ms postprocess per image at shape (1, 3, 384, 640)\n",
      "\n",
      "0: 384x640 10 cars, 1 truck, 130.3ms\n",
      "Speed: 3.7ms preprocess, 130.3ms inference, 2.0ms postprocess per image at shape (1, 3, 384, 640)\n"
     ]
    },
    {
     "name": "stdout",
     "output_type": "stream",
     "text": [
      "Resized Frame Size: Width = 960, Height = 540\n"
     ]
    },
    {
     "name": "stderr",
     "output_type": "stream",
     "text": [
      "\n",
      "0: 384x640 10 cars, 1 truck, 131.8ms\n",
      "Speed: 3.0ms preprocess, 131.8ms inference, 3.0ms postprocess per image at shape (1, 3, 384, 640)\n"
     ]
    },
    {
     "name": "stdout",
     "output_type": "stream",
     "text": [
      "Resized Frame Size: Width = 960, Height = 540\n",
      "Resized Frame Size: Width = 960, Height = 540\n"
     ]
    },
    {
     "name": "stderr",
     "output_type": "stream",
     "text": [
      "\n",
      "0: 384x640 10 cars, 1 truck, 130.0ms\n",
      "Speed: 3.5ms preprocess, 130.0ms inference, 2.0ms postprocess per image at shape (1, 3, 384, 640)\n",
      "\n",
      "0: 384x640 9 cars, 1 truck, 122.0ms\n",
      "Speed: 2.0ms preprocess, 122.0ms inference, 2.0ms postprocess per image at shape (1, 3, 384, 640)\n"
     ]
    },
    {
     "name": "stdout",
     "output_type": "stream",
     "text": [
      "Resized Frame Size: Width = 960, Height = 540\n",
      "Resized Frame Size: Width = 960, Height = 540\n"
     ]
    },
    {
     "name": "stderr",
     "output_type": "stream",
     "text": [
      "\n",
      "0: 384x640 9 cars, 1 truck, 133.4ms\n",
      "Speed: 4.5ms preprocess, 133.4ms inference, 2.0ms postprocess per image at shape (1, 3, 384, 640)\n",
      "\n",
      "0: 384x640 9 cars, 1 truck, 128.6ms\n",
      "Speed: 3.0ms preprocess, 128.6ms inference, 2.0ms postprocess per image at shape (1, 3, 384, 640)\n"
     ]
    },
    {
     "name": "stdout",
     "output_type": "stream",
     "text": [
      "Resized Frame Size: Width = 960, Height = 540\n",
      "Resized Frame Size: Width = 960, Height = 540\n"
     ]
    },
    {
     "name": "stderr",
     "output_type": "stream",
     "text": [
      "\n",
      "0: 384x640 9 cars, 1 truck, 131.8ms\n",
      "Speed: 2.0ms preprocess, 131.8ms inference, 1.0ms postprocess per image at shape (1, 3, 384, 640)\n",
      "\n",
      "0: 384x640 9 cars, 1 truck, 134.3ms\n",
      "Speed: 2.8ms preprocess, 134.3ms inference, 2.2ms postprocess per image at shape (1, 3, 384, 640)\n",
      "\n"
     ]
    },
    {
     "name": "stdout",
     "output_type": "stream",
     "text": [
      "Resized Frame Size: Width = 960, Height = 540\n",
      "Resized Frame Size: Width = 960, Height = 540\n"
     ]
    },
    {
     "name": "stderr",
     "output_type": "stream",
     "text": [
      "0: 384x640 8 cars, 2 trucks, 129.1ms\n",
      "Speed: 3.0ms preprocess, 129.1ms inference, 2.0ms postprocess per image at shape (1, 3, 384, 640)\n",
      "\n",
      "0: 384x640 9 cars, 1 truck, 127.9ms\n",
      "Speed: 3.0ms preprocess, 127.9ms inference, 1.5ms postprocess per image at shape (1, 3, 384, 640)\n"
     ]
    },
    {
     "name": "stdout",
     "output_type": "stream",
     "text": [
      "Resized Frame Size: Width = 960, Height = 540\n",
      "Resized Frame Size: Width = 960, Height = 540\n"
     ]
    },
    {
     "name": "stderr",
     "output_type": "stream",
     "text": [
      "\n",
      "0: 384x640 9 cars, 1 truck, 138.3ms\n",
      "Speed: 2.0ms preprocess, 138.3ms inference, 3.2ms postprocess per image at shape (1, 3, 384, 640)\n",
      "\n",
      "0: 384x640 9 cars, 1 truck, 127.9ms\n",
      "Speed: 3.5ms preprocess, 127.9ms inference, 1.0ms postprocess per image at shape (1, 3, 384, 640)\n"
     ]
    },
    {
     "name": "stdout",
     "output_type": "stream",
     "text": [
      "Resized Frame Size: Width = 960, Height = 540\n"
     ]
    },
    {
     "name": "stderr",
     "output_type": "stream",
     "text": [
      "\n",
      "0: 384x640 9 cars, 1 truck, 127.7ms\n",
      "Speed: 3.0ms preprocess, 127.7ms inference, 2.0ms postprocess per image at shape (1, 3, 384, 640)\n",
      "\n"
     ]
    },
    {
     "name": "stdout",
     "output_type": "stream",
     "text": [
      "Resized Frame Size: Width = 960, Height = 540\n",
      "Resized Frame Size: Width = 960, Height = 540\n"
     ]
    },
    {
     "name": "stderr",
     "output_type": "stream",
     "text": [
      "0: 384x640 9 cars, 1 truck, 126.1ms\n",
      "Speed: 3.0ms preprocess, 126.1ms inference, 2.0ms postprocess per image at shape (1, 3, 384, 640)\n",
      "\n",
      "0: 384x640 9 cars, 1 truck, 127.3ms\n",
      "Speed: 4.0ms preprocess, 127.3ms inference, 2.0ms postprocess per image at shape (1, 3, 384, 640)\n"
     ]
    },
    {
     "name": "stdout",
     "output_type": "stream",
     "text": [
      "Resized Frame Size: Width = 960, Height = 540\n"
     ]
    },
    {
     "name": "stderr",
     "output_type": "stream",
     "text": [
      "\n",
      "0: 384x640 10 cars, 1 truck, 123.3ms\n",
      "Speed: 3.0ms preprocess, 123.3ms inference, 2.0ms postprocess per image at shape (1, 3, 384, 640)\n"
     ]
    },
    {
     "name": "stdout",
     "output_type": "stream",
     "text": [
      "Resized Frame Size: Width = 960, Height = 540\n",
      "Resized Frame Size: Width = 960, Height = 540\n"
     ]
    },
    {
     "name": "stderr",
     "output_type": "stream",
     "text": [
      "\n",
      "0: 384x640 9 cars, 1 truck, 149.7ms\n",
      "Speed: 3.0ms preprocess, 149.7ms inference, 2.0ms postprocess per image at shape (1, 3, 384, 640)\n",
      "\n",
      "0: 384x640 9 cars, 1 truck, 128.6ms\n",
      "Speed: 3.0ms preprocess, 128.6ms inference, 2.0ms postprocess per image at shape (1, 3, 384, 640)\n"
     ]
    },
    {
     "name": "stdout",
     "output_type": "stream",
     "text": [
      "Resized Frame Size: Width = 960, Height = 540\n",
      "Resized Frame Size: Width = 960, Height = 540\n"
     ]
    },
    {
     "name": "stderr",
     "output_type": "stream",
     "text": [
      "\n",
      "0: 384x640 9 cars, 1 truck, 127.0ms\n",
      "Speed: 3.0ms preprocess, 127.0ms inference, 3.0ms postprocess per image at shape (1, 3, 384, 640)\n",
      "\n",
      "0: 384x640 9 cars, 1 truck, 124.0ms\n",
      "Speed: 2.6ms preprocess, 124.0ms inference, 1.0ms postprocess per image at shape (1, 3, 384, 640)\n"
     ]
    },
    {
     "name": "stdout",
     "output_type": "stream",
     "text": [
      "Resized Frame Size: Width = 960, Height = 540\n",
      "Resized Frame Size: Width = 960, Height = 540\n"
     ]
    },
    {
     "name": "stderr",
     "output_type": "stream",
     "text": [
      "\n",
      "0: 384x640 9 cars, 1 truck, 127.8ms\n",
      "Speed: 4.1ms preprocess, 127.8ms inference, 2.0ms postprocess per image at shape (1, 3, 384, 640)\n",
      "\n",
      "0: 384x640 9 cars, 1 truck, 121.6ms\n",
      "Speed: 2.0ms preprocess, 121.6ms inference, 3.0ms postprocess per image at shape (1, 3, 384, 640)\n"
     ]
    },
    {
     "name": "stdout",
     "output_type": "stream",
     "text": [
      "Resized Frame Size: Width = 960, Height = 540\n",
      "Resized Frame Size: Width = 960, Height = 540\n"
     ]
    },
    {
     "name": "stderr",
     "output_type": "stream",
     "text": [
      "\n",
      "0: 384x640 10 cars, 1 truck, 128.3ms\n",
      "Speed: 3.0ms preprocess, 128.3ms inference, 2.0ms postprocess per image at shape (1, 3, 384, 640)\n",
      "\n",
      "0: 384x640 10 cars, 1 truck, 126.0ms\n",
      "Speed: 3.0ms preprocess, 126.0ms inference, 2.0ms postprocess per image at shape (1, 3, 384, 640)\n"
     ]
    },
    {
     "name": "stdout",
     "output_type": "stream",
     "text": [
      "Resized Frame Size: Width = 960, Height = 540\n"
     ]
    },
    {
     "name": "stderr",
     "output_type": "stream",
     "text": [
      "\n",
      "0: 384x640 9 cars, 1 truck, 130.5ms\n",
      "Speed: 3.7ms preprocess, 130.5ms inference, 2.0ms postprocess per image at shape (1, 3, 384, 640)\n"
     ]
    },
    {
     "name": "stdout",
     "output_type": "stream",
     "text": [
      "Resized Frame Size: Width = 960, Height = 540\n"
     ]
    },
    {
     "name": "stderr",
     "output_type": "stream",
     "text": [
      "\n",
      "0: 384x640 9 cars, 1 truck, 126.8ms\n",
      "Speed: 3.0ms preprocess, 126.8ms inference, 2.0ms postprocess per image at shape (1, 3, 384, 640)\n"
     ]
    },
    {
     "name": "stdout",
     "output_type": "stream",
     "text": [
      "Resized Frame Size: Width = 960, Height = 540\n",
      "Resized Frame Size: Width = 960, Height = 540\n"
     ]
    },
    {
     "name": "stderr",
     "output_type": "stream",
     "text": [
      "\n",
      "0: 384x640 9 cars, 1 truck, 128.5ms\n",
      "Speed: 3.0ms preprocess, 128.5ms inference, 2.0ms postprocess per image at shape (1, 3, 384, 640)\n",
      "\n",
      "0: 384x640 10 cars, 1 truck, 120.8ms\n",
      "Speed: 3.5ms preprocess, 120.8ms inference, 2.0ms postprocess per image at shape (1, 3, 384, 640)\n"
     ]
    },
    {
     "name": "stdout",
     "output_type": "stream",
     "text": [
      "Resized Frame Size: Width = 960, Height = 540\n",
      "Resized Frame Size: Width = 960, Height = 540\n"
     ]
    },
    {
     "name": "stderr",
     "output_type": "stream",
     "text": [
      "\n",
      "0: 384x640 10 cars, 1 truck, 131.3ms\n",
      "Speed: 2.0ms preprocess, 131.3ms inference, 1.0ms postprocess per image at shape (1, 3, 384, 640)\n",
      "\n",
      "0: 384x640 9 cars, 1 truck, 119.4ms\n",
      "Speed: 3.0ms preprocess, 119.4ms inference, 2.0ms postprocess per image at shape (1, 3, 384, 640)\n",
      "\n"
     ]
    },
    {
     "name": "stdout",
     "output_type": "stream",
     "text": [
      "Resized Frame Size: Width = 960, Height = 540\n",
      "Resized Frame Size: Width = 960, Height = 540\n"
     ]
    },
    {
     "name": "stderr",
     "output_type": "stream",
     "text": [
      "0: 384x640 9 cars, 1 truck, 129.3ms\n",
      "Speed: 3.0ms preprocess, 129.3ms inference, 1.5ms postprocess per image at shape (1, 3, 384, 640)\n",
      "\n",
      "0: 384x640 9 cars, 1 truck, 130.7ms\n",
      "Speed: 4.0ms preprocess, 130.7ms inference, 1.0ms postprocess per image at shape (1, 3, 384, 640)\n"
     ]
    },
    {
     "name": "stdout",
     "output_type": "stream",
     "text": [
      "Resized Frame Size: Width = 960, Height = 540\n"
     ]
    },
    {
     "name": "stderr",
     "output_type": "stream",
     "text": [
      "\n",
      "0: 384x640 10 cars, 1 truck, 142.1ms\n",
      "Speed: 4.0ms preprocess, 142.1ms inference, 2.0ms postprocess per image at shape (1, 3, 384, 640)\n"
     ]
    },
    {
     "name": "stdout",
     "output_type": "stream",
     "text": [
      "Resized Frame Size: Width = 960, Height = 540\n"
     ]
    },
    {
     "name": "stderr",
     "output_type": "stream",
     "text": [
      "\n",
      "0: 384x640 10 cars, 1 truck, 141.5ms\n",
      "Speed: 4.0ms preprocess, 141.5ms inference, 1.0ms postprocess per image at shape (1, 3, 384, 640)\n"
     ]
    },
    {
     "name": "stdout",
     "output_type": "stream",
     "text": [
      "Resized Frame Size: Width = 960, Height = 540\n"
     ]
    },
    {
     "name": "stderr",
     "output_type": "stream",
     "text": [
      "\n",
      "0: 384x640 10 cars, 1 truck, 127.9ms\n",
      "Speed: 4.0ms preprocess, 127.9ms inference, 2.0ms postprocess per image at shape (1, 3, 384, 640)\n"
     ]
    },
    {
     "name": "stdout",
     "output_type": "stream",
     "text": [
      "Resized Frame Size: Width = 960, Height = 540\n",
      "Resized Frame Size: Width = 960, Height = 540\n"
     ]
    },
    {
     "name": "stderr",
     "output_type": "stream",
     "text": [
      "\n",
      "0: 384x640 9 cars, 1 truck, 129.0ms\n",
      "Speed: 3.0ms preprocess, 129.0ms inference, 2.0ms postprocess per image at shape (1, 3, 384, 640)\n",
      "\n",
      "0: 384x640 9 cars, 1 truck, 130.7ms\n",
      "Speed: 3.0ms preprocess, 130.7ms inference, 2.0ms postprocess per image at shape (1, 3, 384, 640)\n"
     ]
    },
    {
     "name": "stdout",
     "output_type": "stream",
     "text": [
      "Resized Frame Size: Width = 960, Height = 540\n"
     ]
    },
    {
     "name": "stderr",
     "output_type": "stream",
     "text": [
      "\n",
      "0: 384x640 10 cars, 1 truck, 133.3ms\n",
      "Speed: 3.0ms preprocess, 133.3ms inference, 2.0ms postprocess per image at shape (1, 3, 384, 640)\n"
     ]
    },
    {
     "name": "stdout",
     "output_type": "stream",
     "text": [
      "Resized Frame Size: Width = 960, Height = 540\n"
     ]
    },
    {
     "name": "stderr",
     "output_type": "stream",
     "text": [
      "\n",
      "0: 384x640 11 cars, 1 truck, 135.9ms\n",
      "Speed: 3.0ms preprocess, 135.9ms inference, 2.0ms postprocess per image at shape (1, 3, 384, 640)\n"
     ]
    },
    {
     "name": "stdout",
     "output_type": "stream",
     "text": [
      "Resized Frame Size: Width = 960, Height = 540\n"
     ]
    },
    {
     "name": "stderr",
     "output_type": "stream",
     "text": [
      "\n",
      "0: 384x640 11 cars, 1 truck, 133.3ms\n",
      "Speed: 4.0ms preprocess, 133.3ms inference, 2.0ms postprocess per image at shape (1, 3, 384, 640)\n"
     ]
    },
    {
     "name": "stdout",
     "output_type": "stream",
     "text": [
      "Resized Frame Size: Width = 960, Height = 540\n",
      "Resized Frame Size: Width = 960, Height = 540\n"
     ]
    },
    {
     "name": "stderr",
     "output_type": "stream",
     "text": [
      "\n",
      "0: 384x640 11 cars, 1 truck, 132.7ms\n",
      "Speed: 3.2ms preprocess, 132.7ms inference, 2.0ms postprocess per image at shape (1, 3, 384, 640)\n",
      "\n",
      "0: 384x640 10 cars, 1 truck, 133.8ms\n",
      "Speed: 4.0ms preprocess, 133.8ms inference, 2.0ms postprocess per image at shape (1, 3, 384, 640)\n"
     ]
    },
    {
     "name": "stdout",
     "output_type": "stream",
     "text": [
      "Resized Frame Size: Width = 960, Height = 540\n"
     ]
    },
    {
     "name": "stderr",
     "output_type": "stream",
     "text": [
      "\n",
      "0: 384x640 10 cars, 1 truck, 136.8ms\n",
      "Speed: 3.6ms preprocess, 136.8ms inference, 1.0ms postprocess per image at shape (1, 3, 384, 640)\n"
     ]
    },
    {
     "name": "stdout",
     "output_type": "stream",
     "text": [
      "Resized Frame Size: Width = 960, Height = 540\n",
      "Resized Frame Size: Width = 960, Height = 540\n"
     ]
    },
    {
     "name": "stderr",
     "output_type": "stream",
     "text": [
      "\n",
      "0: 384x640 10 cars, 1 truck, 131.5ms\n",
      "Speed: 3.0ms preprocess, 131.5ms inference, 2.0ms postprocess per image at shape (1, 3, 384, 640)\n",
      "\n",
      "0: 384x640 10 cars, 1 truck, 135.3ms\n",
      "Speed: 3.5ms preprocess, 135.3ms inference, 2.0ms postprocess per image at shape (1, 3, 384, 640)\n"
     ]
    },
    {
     "name": "stdout",
     "output_type": "stream",
     "text": [
      "Resized Frame Size: Width = 960, Height = 540\n"
     ]
    },
    {
     "name": "stderr",
     "output_type": "stream",
     "text": [
      "\n",
      "0: 384x640 11 cars, 1 truck, 135.2ms\n",
      "Speed: 3.5ms preprocess, 135.2ms inference, 2.0ms postprocess per image at shape (1, 3, 384, 640)\n"
     ]
    },
    {
     "name": "stdout",
     "output_type": "stream",
     "text": [
      "Resized Frame Size: Width = 960, Height = 540\n"
     ]
    },
    {
     "name": "stderr",
     "output_type": "stream",
     "text": [
      "\n",
      "0: 384x640 11 cars, 1 truck, 157.4ms\n",
      "Speed: 3.9ms preprocess, 157.4ms inference, 2.6ms postprocess per image at shape (1, 3, 384, 640)\n"
     ]
    },
    {
     "name": "stdout",
     "output_type": "stream",
     "text": [
      "Resized Frame Size: Width = 960, Height = 540\n"
     ]
    },
    {
     "name": "stderr",
     "output_type": "stream",
     "text": [
      "\n",
      "0: 384x640 11 cars, 1 truck, 127.9ms\n",
      "Speed: 3.0ms preprocess, 127.9ms inference, 2.0ms postprocess per image at shape (1, 3, 384, 640)\n"
     ]
    },
    {
     "name": "stdout",
     "output_type": "stream",
     "text": [
      "Resized Frame Size: Width = 960, Height = 540\n"
     ]
    },
    {
     "name": "stderr",
     "output_type": "stream",
     "text": [
      "\n",
      "0: 384x640 11 cars, 1 truck, 131.1ms\n",
      "Speed: 3.2ms preprocess, 131.1ms inference, 2.0ms postprocess per image at shape (1, 3, 384, 640)\n"
     ]
    },
    {
     "name": "stdout",
     "output_type": "stream",
     "text": [
      "Resized Frame Size: Width = 960, Height = 540\n"
     ]
    },
    {
     "name": "stderr",
     "output_type": "stream",
     "text": [
      "\n",
      "0: 384x640 11 cars, 1 truck, 132.3ms\n",
      "Speed: 3.0ms preprocess, 132.3ms inference, 1.0ms postprocess per image at shape (1, 3, 384, 640)\n"
     ]
    },
    {
     "name": "stdout",
     "output_type": "stream",
     "text": [
      "Resized Frame Size: Width = 960, Height = 540\n"
     ]
    }
   ],
   "source": [
    "cap=cv2.VideoCapture('highway.mp4')\n",
    "\n",
    "Area_of_Interest = [(200,210), (410,210),(360,330),(1,320)] # top-left -> top-right -> bottom-right -> bottom-left\n",
    "\n",
    "avg_car_length = 4039.19 # in milimeters (exact value = 4,039.188636363636)\n",
    "avg_car_width = 1572.89 # in milimeters (exact value = 1,572.890909090909)\n",
    "\n",
    "#add speed\n",
    "fps = cap.get(cv2.CAP_PROP_FPS)  # Get the frame rate of the video\n",
    "\n",
    "#add change\n",
    "previous_positions = {}\n",
    "next_object_id = 0\n",
    "\n",
    "#add change (Assigns a unique ID to a new object based on its center position)\n",
    "def assign_id_to_new_object(cx, cy, previous_positions, threshold=50):\n",
    "    global next_object_id\n",
    "\n",
    "    for obj_id, (prev_x, prev_y) in previous_positions.items():\n",
    "        if euclidean((cx, cy), (prev_x, prev_y)) < threshold:\n",
    "            return obj_id  # Object is already tracked\n",
    "\n",
    "    # Assign new ID to an untracked object\n",
    "    obj_id = next_object_id\n",
    "    next_object_id += 1\n",
    "    return obj_id\n",
    "\n",
    "while True:\n",
    "    cap_check, frame = cap.read()\n",
    "    if not cap_check:\n",
    "        break\n",
    "    \n",
    "    frame = cv2.resize(frame, (0,0), fx=0.5, fy=0.5)\n",
    "    cv2.imwrite('saved_image.jpg', frame)\n",
    "    \n",
    "    height, width = frame.shape[:2]\n",
    "    print(f'Resized Frame Size: Width = {width}, Height = {height}')\n",
    "    # print(f'y2 = {int(y2)}, y1 = {int(y1)}, x2 = {int(x2)}, x1 = {int(x1)}')\n",
    "    # print(f'Distance per pixel = {distance_per_pixel}')\n",
    "\n",
    "    results = model(frame)\n",
    "    detections = results[0].boxes\n",
    "\n",
    "    current_positions = {} #add change\n",
    "\n",
    "    for box in detections.data:\n",
    "\n",
    "        x1, y1, x2, y2, conf, cls = box.tolist()\n",
    "        cx = int(x1+x2) //2\n",
    "        cy = int(y1+y2) //2\n",
    "\n",
    "        if conf >= confidence_threshold and (cls == car_class_id or cls == truck_class_id or cls == bus_class_id):\n",
    "                \n",
    "            # return 1 if inside, 0 if on the edge, -1 if outside \n",
    "            result = cv2.pointPolygonTest(np.array(Area_of_Interest,np.int32),(int(cx),int(cy)),False) \n",
    "\n",
    "            if(result >= 0):\n",
    "                # add speed\n",
    "                object_id = assign_id_to_new_object(cx, cy, previous_positions) # add change\n",
    "                current_positions[object_id] = (cx, cy)\n",
    "    \n",
    "                # Draw the bounding box\n",
    "                cv2.circle(frame, (cx, cy), 5, (0, 255, 0), -1)\n",
    "                cv2.rectangle(frame, (int(x1), int(y1)), (int(x2), int(y2)), (0, 255, 0), 2)\n",
    "                # Put class ID or name on the frame\n",
    "                cv2.putText(frame, f'Conf: {conf:.2f}', (int(x1), int(y1) - 10), #ID: {int(cls)} \n",
    "                            cv2.FONT_HERSHEY_SIMPLEX, 0.5, (0, 255, 0), 2)\n",
    "                \n",
    "                distance_per_pixel = (avg_car_width * 0.001) / int(y2-y1) # in meters/pixel\n",
    "\n",
    "                #add speed\n",
    "                if object_id in previous_positions: # add change\n",
    "\n",
    "                    # Get previous position\n",
    "                    prev_x, prev_y = previous_positions[object_id]\n",
    "\n",
    "                    # Calculate the distance moved in pixels\n",
    "                    pixel_distance = np.sqrt((cx - prev_x) ** 2 + (cy - prev_y) ** 2)\n",
    "\n",
    "                    # Convert pixel distance to real-world distance (in meters)\n",
    "                    real_world_distance = pixel_distance * distance_per_pixel\n",
    "\n",
    "                    # Calculate speed (distance/time), time = 1/fps\n",
    "                    speed = real_world_distance * fps  # Speed in meters per second\n",
    "\n",
    "                    # Display speed on the frame (convert to km/h by multiplying by 3.6)\n",
    "                    cv2.putText(frame, f'Speed: {speed * 3.6:.2f} km/h', (int(x1), int(y2) + 20), # Speed\n",
    "                                cv2.FONT_HERSHEY_SIMPLEX, 0.5, (0, 200, 255), 2)\n",
    "                    cv2.putText(frame, f'Distance Moved: {pixel_distance:.2f} px', (int(x1), int(y2) + 40), # Distance moved since last calculation in pixel\n",
    "                                cv2.FONT_HERSHEY_SIMPLEX, 0.5, (0, 200, 255), 2)\n",
    "                    cv2.putText(frame, f'Distance Moved: {real_world_distance:.2f} m', (int(x1), int(y2) + 60), # Distance moved since last calculation in meter\n",
    "                                cv2.FONT_HERSHEY_SIMPLEX, 0.5, (0, 200, 255), 2)\n",
    "                    cv2.putText(frame, f'Distance/Pixel: {distance_per_pixel:.2f} m', (int(x1), int(y2) + 80), # Distance per pixel in meter\n",
    "                                cv2.FONT_HERSHEY_SIMPLEX, 0.5, (0, 200, 255), 2)\n",
    "\n",
    "    previous_positions = current_positions\n",
    "\n",
    "    cv2.polylines(frame,[np.array(Area_of_Interest,np.int32)],True,(0,255,255),2)\n",
    "\n",
    "    # Display the frame\n",
    "    cv2.imshow('frame',frame)\n",
    "\n",
    "    key = cv2.waitKey(33) & 0xFF\n",
    "\n",
    "    if key == 27:\n",
    "        break\n",
    "    elif key == ord('s') or key == ord('S'):  # Save frame when 'S' is pressed\n",
    "        cv2.imwrite('captured_frame.jpg', frame)\n",
    "        print('Frame captured and saved as captured_frame.jpg')\n",
    "\n",
    "cap.release()\n",
    "cv2.destroyAllWindows()"
   ]
  }
 ],
 "metadata": {
  "kernelspec": {
   "display_name": "Python 3",
   "language": "python",
   "name": "python3"
  },
  "language_info": {
   "codemirror_mode": {
    "name": "ipython",
    "version": 3
   },
   "file_extension": ".py",
   "mimetype": "text/x-python",
   "name": "python",
   "nbconvert_exporter": "python",
   "pygments_lexer": "ipython3",
   "version": "3.11.4"
  }
 },
 "nbformat": 4,
 "nbformat_minor": 2
}
